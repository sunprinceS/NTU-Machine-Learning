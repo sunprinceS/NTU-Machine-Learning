{
 "cells": [
  {
   "cell_type": "code",
   "execution_count": 1,
   "metadata": {},
   "outputs": [],
   "source": [
    "from util import *\n",
    "from PLA import *"
   ]
  },
  {
   "cell_type": "code",
   "execution_count": 2,
   "metadata": {},
   "outputs": [],
   "source": [
    "X,y = read_data('hw1_15_train.dat')\n",
    "X = pad_one(X)"
   ]
  },
  {
   "cell_type": "markdown",
   "metadata": {},
   "source": [
    "**Q15**"
   ]
  },
  {
   "cell_type": "code",
   "execution_count": 3,
   "metadata": {},
   "outputs": [
    {
     "data": {
      "text/plain": [
       "45"
      ]
     },
     "execution_count": 3,
     "metadata": {},
     "output_type": "execute_result"
    }
   ],
   "source": [
    "model = PLA(X.shape[1])\n",
    "model.fit(X,y,1,False)"
   ]
  },
  {
   "cell_type": "markdown",
   "metadata": {},
   "source": [
    "**Q16**"
   ]
  },
  {
   "cell_type": "code",
   "execution_count": 4,
   "metadata": {},
   "outputs": [
    {
     "name": "stdout",
     "output_type": "stream",
     "text": [
      "40.829\n"
     ]
    }
   ],
   "source": [
    "res = []\n",
    "for t in range(2000):\n",
    "    model = PLA(X.shape[1])\n",
    "    res.append(model.fit(X,y,1,True))\n",
    "print(np.mean(np.array(res)))"
   ]
  },
  {
   "cell_type": "markdown",
   "metadata": {},
   "source": [
    "**Q17**"
   ]
  },
  {
   "cell_type": "code",
   "execution_count": 5,
   "metadata": {},
   "outputs": [
    {
     "name": "stdout",
     "output_type": "stream",
     "text": [
      "40.025\n"
     ]
    }
   ],
   "source": [
    "res = []\n",
    "for t in range(2000):\n",
    "    model = PLA(X.shape[1])\n",
    "    res.append(model.fit(X,y,0.5,True))\n",
    "print(np.mean(np.array(res)))"
   ]
  },
  {
   "cell_type": "markdown",
   "metadata": {},
   "source": [
    "**Q18**"
   ]
  },
  {
   "cell_type": "code",
   "execution_count": 6,
   "metadata": {},
   "outputs": [],
   "source": [
    "X_tr,y_tr = read_data('hw1_18_train.dat')\n",
    "X_te,y_te = read_data('hw1_18_test.dat')\n",
    "X_tr = pad_one(X_tr)\n",
    "X_te = pad_one(X_te)"
   ]
  },
  {
   "cell_type": "code",
   "execution_count": 7,
   "metadata": {},
   "outputs": [
    {
     "name": "stdout",
     "output_type": "stream",
     "text": [
      "0.132357\n"
     ]
    }
   ],
   "source": [
    "res = []\n",
    "for t in range(2000):\n",
    "    model = pocketPLA(X_tr.shape[1])\n",
    "    model.fit(X_tr,y_tr,1,50)\n",
    "    pred = np.sign(np.dot(X_te,model.w))\n",
    "    num_err = len(np.where(pred != y_te)[0])\n",
    "    res.append(num_err)\n",
    "print(np.mean(np.array(res))/X_te.shape[0])"
   ]
  },
  {
   "cell_type": "markdown",
   "metadata": {},
   "source": [
    "**Q19**"
   ]
  },
  {
   "cell_type": "code",
   "execution_count": 8,
   "metadata": {},
   "outputs": [
    {
     "name": "stdout",
     "output_type": "stream",
     "text": [
      "0.358502\n"
     ]
    }
   ],
   "source": [
    "res = []\n",
    "for t in range(2000):\n",
    "    model = pocketPLA(X_tr.shape[1])\n",
    "    model.pla_fit(X_tr,y_tr,1,50)\n",
    "    pred = np.sign(np.dot(X_te,model.w))\n",
    "    num_err = len(np.where(pred != y_te)[0])\n",
    "    res.append(num_err)\n",
    "print(np.mean(np.array(res))/X_te.shape[0])"
   ]
  },
  {
   "cell_type": "markdown",
   "metadata": {},
   "source": [
    "**Q20**"
   ]
  },
  {
   "cell_type": "code",
   "execution_count": 9,
   "metadata": {},
   "outputs": [
    {
     "name": "stdout",
     "output_type": "stream",
     "text": [
      "0.116598\n"
     ]
    }
   ],
   "source": [
    "res = []\n",
    "for t in range(2000):\n",
    "    model = pocketPLA(X_tr.shape[1])\n",
    "    model.fit(X_tr,y_tr,1,100)\n",
    "    pred = np.sign(np.dot(X_te,model.w))\n",
    "    num_err = len(np.where(pred != y_te)[0])\n",
    "    res.append(num_err)\n",
    "print(np.mean(np.array(res))/X_te.shape[0])"
   ]
  },
  {
   "cell_type": "code",
   "execution_count": null,
   "metadata": {},
   "outputs": [],
   "source": []
  }
 ],
 "metadata": {
  "kernelspec": {
   "display_name": "Python 3",
   "language": "python",
   "name": "python3"
  },
  "language_info": {
   "codemirror_mode": {
    "name": "ipython",
    "version": 3
   },
   "file_extension": ".py",
   "mimetype": "text/x-python",
   "name": "python",
   "nbconvert_exporter": "python",
   "pygments_lexer": "ipython3",
   "version": "3.6.4"
  },
  "toc": {
   "nav_menu": {},
   "number_sections": true,
   "sideBar": true,
   "skip_h1_title": false,
   "toc_cell": false,
   "toc_position": {},
   "toc_section_display": "block",
   "toc_window_display": false
  },
  "varInspector": {
   "cols": {
    "lenName": 16,
    "lenType": 16,
    "lenVar": 40
   },
   "kernels_config": {
    "python": {
     "delete_cmd_postfix": "",
     "delete_cmd_prefix": "del ",
     "library": "var_list.py",
     "varRefreshCmd": "print(var_dic_list())"
    },
    "r": {
     "delete_cmd_postfix": ") ",
     "delete_cmd_prefix": "rm(",
     "library": "var_list.r",
     "varRefreshCmd": "cat(var_dic_list()) "
    }
   },
   "types_to_exclude": [
    "module",
    "function",
    "builtin_function_or_method",
    "instance",
    "_Feature"
   ],
   "window_display": false
  }
 },
 "nbformat": 4,
 "nbformat_minor": 2
}
