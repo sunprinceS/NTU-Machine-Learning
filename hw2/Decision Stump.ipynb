{
 "cells": [
  {
   "cell_type": "markdown",
   "metadata": {},
   "source": [
    "$E_o = $ (predict incorrect and noise not flip) + (predict correct and noise flip)\n",
    "\n",
    "\n",
    "\n",
    "* when $s < 0$, $E_o = 0.8 \\times \\frac{|\\theta|}{2} + 0.2 \\times \\frac{2-|\\theta|}{2} = 0.3 |\\theta| + 0.2$\n",
    "* when $s > 0$, $E_o = 0.8 \\times \\frac{2-|\\theta|}{2} + 0.2 \\times \\frac{|\\theta|}{2} = -0.3 |\\theta| + 0.8$\n"
   ]
  },
  {
   "cell_type": "code",
   "execution_count": 1,
   "metadata": {},
   "outputs": [],
   "source": [
    "from util import *\n",
    "from decstump import *"
   ]
  },
  {
   "cell_type": "markdown",
   "metadata": {},
   "source": [
    "## Q17 & Q18"
   ]
  },
  {
   "cell_type": "code",
   "execution_count": 2,
   "metadata": {},
   "outputs": [
    {
     "name": "stdout",
     "output_type": "stream",
     "text": [
      "0.161925\n",
      "0.24871974922155818\n"
     ]
    }
   ],
   "source": [
    "Ei_ls = []\n",
    "Eo_ls = []\n",
    "for t in range(2000):\n",
    "    X,y = gen_data(20)\n",
    "    E_i,E_o = dec_stump(X,y)\n",
    "    Ei_ls.append(E_i)\n",
    "    Eo_ls.append(E_o)\n",
    "print(np.mean(np.array(Ei_ls)))\n",
    "print(np.mean(np.array(Eo_ls)))"
   ]
  },
  {
   "cell_type": "code",
   "execution_count": 3,
   "metadata": {},
   "outputs": [],
   "source": [
    "X_tr,y_tr = read_data('hw2_train.dat')\n",
    "X_te,y_te = read_data('hw2_test.dat')"
   ]
  },
  {
   "cell_type": "markdown",
   "metadata": {},
   "source": [
    "## Q19 & Q20"
   ]
  },
  {
   "cell_type": "code",
   "execution_count": 4,
   "metadata": {},
   "outputs": [
    {
     "name": "stdout",
     "output_type": "stream",
     "text": [
      "0.25\n"
     ]
    }
   ],
   "source": [
    "Ei,theta, d= multi_dec_stump(X_tr,y_tr)\n",
    "print(Ei)"
   ]
  },
  {
   "cell_type": "code",
   "execution_count": 5,
   "metadata": {},
   "outputs": [
    {
     "name": "stdout",
     "output_type": "stream",
     "text": [
      "0.36\n"
     ]
    }
   ],
   "source": [
    "Eo = np.where(np.sign((X_te.T)[d]-theta) != y_te)[0].shape[0]/X_te.shape[0]\n",
    "# if Eo > 0.5, it can be a *negative* classifier, in this case, we can just flip the interval\n",
    "print(min(Eo,1-Eo))"
   ]
  },
  {
   "cell_type": "code",
   "execution_count": null,
   "metadata": {},
   "outputs": [],
   "source": []
  }
 ],
 "metadata": {
  "kernelspec": {
   "display_name": "Python 3",
   "language": "python",
   "name": "python3"
  },
  "language_info": {
   "codemirror_mode": {
    "name": "ipython",
    "version": 3
   },
   "file_extension": ".py",
   "mimetype": "text/x-python",
   "name": "python",
   "nbconvert_exporter": "python",
   "pygments_lexer": "ipython3",
   "version": "3.6.4"
  },
  "toc": {
   "nav_menu": {},
   "number_sections": true,
   "sideBar": true,
   "skip_h1_title": false,
   "toc_cell": false,
   "toc_position": {},
   "toc_section_display": "block",
   "toc_window_display": false
  },
  "varInspector": {
   "cols": {
    "lenName": 16,
    "lenType": 16,
    "lenVar": 40
   },
   "kernels_config": {
    "python": {
     "delete_cmd_postfix": "",
     "delete_cmd_prefix": "del ",
     "library": "var_list.py",
     "varRefreshCmd": "print(var_dic_list())"
    },
    "r": {
     "delete_cmd_postfix": ") ",
     "delete_cmd_prefix": "rm(",
     "library": "var_list.r",
     "varRefreshCmd": "cat(var_dic_list()) "
    }
   },
   "types_to_exclude": [
    "module",
    "function",
    "builtin_function_or_method",
    "instance",
    "_Feature"
   ],
   "window_display": false
  }
 },
 "nbformat": 4,
 "nbformat_minor": 2
}
