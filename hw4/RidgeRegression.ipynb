{
 "cells": [
  {
   "cell_type": "code",
   "execution_count": 42,
   "metadata": {},
   "outputs": [
    {
     "name": "stdout",
     "output_type": "stream",
     "text": [
      "The autoreload extension is already loaded. To reload it, use:\n",
      "  %reload_ext autoreload\n",
      "Populating the interactive namespace from numpy and matplotlib\n"
     ]
    }
   ],
   "source": [
    "%load_ext autoreload\n",
    "%pylab inline\n",
    "%autoreload 2\n",
    "from sklearn.linear_model import Ridge, RidgeClassifier\n",
    "import numpy as np\n",
    "from util import *"
   ]
  },
  {
   "cell_type": "markdown",
   "metadata": {},
   "source": [
    "# Q13"
   ]
  },
  {
   "cell_type": "code",
   "execution_count": 46,
   "metadata": {},
   "outputs": [],
   "source": [
    "X_tr,y_tr = read_data('train.dat')\n",
    "#X_tr = pad_one(X_tr)\n",
    "X_te,y_te = read_data('test.dat')\n",
    "#X_te = pad_one(X_te)"
   ]
  },
  {
   "cell_type": "code",
   "execution_count": 47,
   "metadata": {},
   "outputs": [
    {
     "data": {
      "text/plain": [
       "RidgeClassifier(alpha=10, class_weight=None, copy_X=True, fit_intercept=True,\n",
       "        max_iter=None, normalize=False, random_state=None, solver='auto',\n",
       "        tol=0.001)"
      ]
     },
     "execution_count": 47,
     "metadata": {},
     "output_type": "execute_result"
    }
   ],
   "source": [
    "model = RidgeClassifier(alpha=10)\n",
    "model.fit(X_tr,y_tr)"
   ]
  },
  {
   "cell_type": "code",
   "execution_count": 48,
   "metadata": {},
   "outputs": [
    {
     "name": "stdout",
     "output_type": "stream",
     "text": [
      "Ei is 0.03500000000000003\n",
      "Eo is 0.02200000000000002\n"
     ]
    }
   ],
   "source": [
    "print(\"Ei is {}\".format(1 - model.score(X_tr,y_tr)))\n",
    "print(\"Eo is {}\".format(1 - model.score(X_te,y_te)))"
   ]
  },
  {
   "cell_type": "markdown",
   "metadata": {},
   "source": [
    "# Q14"
   ]
  },
  {
   "cell_type": "code",
   "execution_count": 49,
   "metadata": {},
   "outputs": [
    {
     "name": "stdout",
     "output_type": "stream",
     "text": [
      "When log(lambda) is 2, Ei is 0.09999999999999998, Eo is 0.09099999999999997\n",
      "When log(lambda) is 1, Ei is 0.03500000000000003, Eo is 0.02200000000000002\n",
      "When log(lambda) is -1, Ei is 0.030000000000000027, Eo is 0.016000000000000014\n",
      "When log(lambda) is -8, Ei is 0.015000000000000013, Eo is 0.020000000000000018\n"
     ]
    }
   ],
   "source": [
    "Ei = 1e9\n",
    "Eo = 0\n",
    "for lamb in range(2,-11,-1):\n",
    "    model = RidgeClassifier(alpha = 10 ** lamb)\n",
    "    model.fit(X_tr,y_tr)\n",
    "    res = 1 - model.score(X_tr,y_tr)\n",
    "    if res < Ei:\n",
    "        Ei = res\n",
    "        print(\"When log(lambda) is {}, Ei is {}, Eo is {}\".format(lamb,Ei,1 - model.score(X_te,y_te)))"
   ]
  },
  {
   "cell_type": "markdown",
   "metadata": {},
   "source": [
    "# Q15"
   ]
  },
  {
   "cell_type": "code",
   "execution_count": 50,
   "metadata": {},
   "outputs": [
    {
     "name": "stdout",
     "output_type": "stream",
     "text": [
      "When log(lambda) is 2, Ei is 0.09999999999999998, Eo is 0.09099999999999997\n",
      "When log(lambda) is 1, Ei is 0.03500000000000003, Eo is 0.02200000000000002\n",
      "When log(lambda) is 0, Ei is 0.03500000000000003, Eo is 0.017000000000000015\n",
      "When log(lambda) is -1, Ei is 0.030000000000000027, Eo is 0.016000000000000014\n",
      "When log(lambda) is -7, Ei is 0.030000000000000027, Eo is 0.015000000000000013\n"
     ]
    }
   ],
   "source": [
    "Ei = 0\n",
    "Eo = 1e9\n",
    "for lamb in range(2,-11,-1):\n",
    "    model = RidgeClassifier(alpha = 10 ** lamb)\n",
    "    model.fit(X_tr,y_tr)\n",
    "    res = 1 - model.score(X_te,y_te)\n",
    "    if res < Eo:\n",
    "        Eo = res\n",
    "        print(\"When log(lambda) is {}, Ei is {}, Eo is {}\".format(lamb,1 - model.score(X_tr,y_tr),Eo))"
   ]
  },
  {
   "cell_type": "markdown",
   "metadata": {},
   "source": [
    "# Q16"
   ]
  },
  {
   "cell_type": "code",
   "execution_count": 51,
   "metadata": {},
   "outputs": [
    {
     "name": "stdout",
     "output_type": "stream",
     "text": [
      "When log(lambda) is 2, Etr is 0.25, Eval is 0.32499999999999996, Ete is 0.30300000000000005\n",
      "When log(lambda) is 1, Etr is 0.033333333333333326, Eval is 0.0625, Ete is 0.04300000000000004\n",
      "When log(lambda) is -8, Etr is 0.0, Eval is 0.050000000000000044, Ete is 0.025000000000000022\n"
     ]
    }
   ],
   "source": [
    "num_tr = 120\n",
    "Etr = 1e9\n",
    "Eval = 0\n",
    "Ete = 0\n",
    "for lamb in range(2,-11,-1):\n",
    "    model = RidgeClassifier(alpha = 10 ** lamb)\n",
    "    model.fit(X_tr[:num_tr,:],y_tr[:num_tr])\n",
    "    res = 1 - model.score(X_tr[:num_tr,:],y_tr[:num_tr])\n",
    "    if res < Etr:\n",
    "        Etr = res\n",
    "        Eval = 1 - model.score(X_tr[num_tr:,:],y_tr[num_tr:])\n",
    "        Ete = 1 - model.score(X_te,y_te)\n",
    "        print(\"When log(lambda) is {}, Etr is {}, Eval is {}, Ete is {}\".format(lamb,Etr,Eval,Ete))"
   ]
  },
  {
   "cell_type": "markdown",
   "metadata": {},
   "source": [
    "# Q17"
   ]
  },
  {
   "cell_type": "code",
   "execution_count": 52,
   "metadata": {},
   "outputs": [
    {
     "name": "stdout",
     "output_type": "stream",
     "text": [
      "When log(lambda) is 2, Etr is 0.25, Eval is 0.32499999999999996, Ete is 0.30300000000000005\n",
      "When log(lambda) is 1, Etr is 0.033333333333333326, Eval is 0.0625, Ete is 0.04300000000000004\n",
      "When log(lambda) is 0, Etr is 0.033333333333333326, Eval is 0.03749999999999998, Ete is 0.02200000000000002\n"
     ]
    }
   ],
   "source": [
    "num_tr = 120\n",
    "Etr = 0\n",
    "Eval = 1e9\n",
    "Ete = 0\n",
    "for lamb in range(2,-11,-1):\n",
    "    model = RidgeClassifier(alpha = 10 ** lamb)\n",
    "    model.fit(X_tr[:num_tr,:],y_tr[:num_tr])\n",
    "    res = 1 - model.score(X_tr[num_tr:,:],y_tr[num_tr:])\n",
    "    if res < Eval:\n",
    "        Etr = 1 - model.score(X_tr[:num_tr,:],y_tr[:num_tr])\n",
    "        Eval = res\n",
    "        Ete = 1 - model.score(X_te,y_te)\n",
    "        print(\"When log(lambda) is {}, Etr is {}, Eval is {}, Ete is {}\".format(lamb,Etr,Eval,Ete))"
   ]
  },
  {
   "cell_type": "markdown",
   "metadata": {},
   "source": [
    "# Q18"
   ]
  },
  {
   "cell_type": "code",
   "execution_count": 31,
   "metadata": {},
   "outputs": [
    {
     "name": "stdout",
     "output_type": "stream",
     "text": [
      "Ei is 0.03500000000000003\n",
      "Eo is 0.017000000000000015\n"
     ]
    }
   ],
   "source": [
    "model = RidgeClassifier(alpha = 10 ** 0)\n",
    "model.fit(X_tr,y_tr)\n",
    "print(\"Ei is {}\".format(1 - model.score(X_tr,y_tr)))\n",
    "print(\"Eo is {}\".format(1 - model.score(X_te,y_te)))"
   ]
  },
  {
   "cell_type": "markdown",
   "metadata": {},
   "source": [
    "# Q19"
   ]
  },
  {
   "cell_type": "code",
   "execution_count": 43,
   "metadata": {},
   "outputs": [
    {
     "name": "stdout",
     "output_type": "stream",
     "text": [
      "When log(lambda) is 2, Ecv is 0.13999999999999999\n",
      "When log(lambda) is 1, Ecv is 0.039999999999999994\n",
      "When log(lambda) is 0, Ecv is 0.03499999999999999\n",
      "When log(lambda) is -8, Ecv is 0.02999999999999998\n"
     ]
    }
   ],
   "source": [
    "num_fold = 5\n",
    "fold_size = X_tr.shape[0]//num_fold\n",
    "Ecv = 1e9\n",
    "for lamb in range(2,-11,-1):\n",
    "    res = 0\n",
    "    for i in range(num_fold):\n",
    "        model = RidgeClassifier(alpha = 10 ** lamb)\n",
    "        indexes = np.ones(X_tr.shape[0],dtype=np.int)\n",
    "        indexes[i*fold_size:(i+1)*fold_size] = 0\n",
    "        model.fit(X_tr[indexes == 1],y_tr[indexes == 1])\n",
    "        res += 1 - model.score(X_tr[indexes == 0],y_tr[indexes == 0])\n",
    "    res /= 5\n",
    "    if res < Ecv:\n",
    "        Ecv = res\n",
    "        print(\"When log(lambda) is {}, Ecv is {}\".format(lamb,Ecv))\n",
    "    "
   ]
  },
  {
   "cell_type": "code",
   "execution_count": 44,
   "metadata": {},
   "outputs": [],
   "source": [
    "# Q20"
   ]
  },
  {
   "cell_type": "code",
   "execution_count": 45,
   "metadata": {},
   "outputs": [
    {
     "name": "stdout",
     "output_type": "stream",
     "text": [
      "Ei is 0.015000000000000013\n",
      "Eo is 0.020000000000000018\n"
     ]
    }
   ],
   "source": [
    "model = RidgeClassifier(alpha = 10 ** -8)\n",
    "model.fit(X_tr,y_tr)\n",
    "print(\"Ei is {}\".format(1 - model.score(X_tr,y_tr)))\n",
    "print(\"Eo is {}\".format(1 - model.score(X_te,y_te)))"
   ]
  }
 ],
 "metadata": {
  "kernelspec": {
   "display_name": "Python 3",
   "language": "python",
   "name": "python3"
  },
  "language_info": {
   "codemirror_mode": {
    "name": "ipython",
    "version": 3
   },
   "file_extension": ".py",
   "mimetype": "text/x-python",
   "name": "python",
   "nbconvert_exporter": "python",
   "pygments_lexer": "ipython3",
   "version": "3.7.1"
  }
 },
 "nbformat": 4,
 "nbformat_minor": 2
}
